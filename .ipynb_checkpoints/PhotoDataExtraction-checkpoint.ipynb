{
 "cells": [
  {
   "cell_type": "code",
   "execution_count": 1,
   "metadata": {
    "collapsed": true
   },
   "outputs": [],
   "source": [
    "import cv2\n",
    "import numpy as np"
   ]
  },
  {
   "cell_type": "code",
   "execution_count": 15,
   "metadata": {},
   "outputs": [],
   "source": [
    "# image = cv2.imread(\"Photos/IMG_20200217_125023.jpg\")\n",
    "image = cv2.imread(\"Photos/IMG_20200217_125027.jpg\")\n",
    "# image = cv2.imread(\"Photos/IMG_20200217_124942.jpg\")\n",
    "# cv2.namedWindow('image')\n",
    "\n",
    "def nothing(x):\n",
    "    pass\n",
    "val = 25\n",
    "size = (24*val,11*val)\n",
    "img = cv2.resize(image, size)\n",
    "\n",
    "# cv2.createTrackbar('TOP','image',0,255,nothing)\n",
    "# cv2.createTrackbar('BOT','image',0,255,nothing)\n",
    "top = 255\n",
    "bot = 73\n",
    "\n",
    "img_gray = cv2.cvtColor(img, cv2.COLOR_BGR2GRAY)\n",
    "ret, thresh = cv2.threshold(img_gray, bot, top, cv2.THRESH_BINARY_INV)\n",
    "kernel1 = np.ones((5,5),np.uint8)\n",
    "kernel2 = np.ones((9,9),np.uint8)\n",
    "opening = cv2.morphologyEx(thresh, cv2.MORPH_OPEN, kernel1)\n",
    "closing = cv2.morphologyEx(opening, cv2.MORPH_CLOSE, kernel2)\n",
    "contours, hierarchy = cv2.findContours(closing, cv2.RETR_TREE, cv2.CHAIN_APPROX_SIMPLE)\n",
    "show = cv2.cvtColor(closing, cv2.COLOR_GRAY2BGR)\n",
    "contour = cv2.cvtColor(show, cv2.COLOR_BGR2GRAY)\n",
    "contour = cv2.cvtColor(contour, cv2.COLOR_GRAY2BGR)\n",
    "epsilon = 0.01*cv2.arcLength(contours[0],True)\n",
    "approx = cv2.approxPolyDP(contours[0],epsilon,True)\n",
    "hull = cv2.convexHull(contours[0])\n",
    "perimeter = cv2.arcLength(contours[0],True)\n",
    "x,y,w,h = cv2.boundingRect(contours[0])\n",
    "cv2.rectangle(contour,(x,y),(x+w,y+h),(0,255,0),2)\n",
    "\n",
    "rect = cv2.minAreaRect(contours[0])\n",
    "box = cv2.boxPoints(rect)\n",
    "box = np.int0(box)\n",
    "cv2.drawContours(show,[box],0,(0,0,255),2)\n",
    "\n",
    "cv2.drawContours(show, approx, -1, (0,255,0), 5)\n",
    "for item in range(approx.shape[0]):\n",
    "    cv2.line(show, (approx[item][0][0],approx[item][0][1]), (approx[(item + 1) % approx.shape[0]][0][0],approx[(item + 1) % approx.shape[0]][0][1]), (0,255,0), 3)\n",
    "\n",
    "cv2.imshow('image', show)\n",
    "\n",
    "while(1):\n",
    "    k = cv2.waitKey(1) & 0xFF\n",
    "    if k == 27:\n",
    "        break\n",
    "\n",
    "    # get current positions of four trackbars\n",
    "#     top = cv2.getTrackbarPos('TOP','image')\n",
    "#     bot = cv2.getTrackbarPos('BOT','image')\n",
    "    \n",
    "    \n",
    "\n",
    "cv2.destroyAllWindows()"
   ]
  }
 ],
 "metadata": {
  "kernelspec": {
   "display_name": "Python 3",
   "language": "python",
   "name": "python3"
  },
  "language_info": {
   "codemirror_mode": {
    "name": "ipython",
    "version": 3
   },
   "file_extension": ".py",
   "mimetype": "text/x-python",
   "name": "python",
   "nbconvert_exporter": "python",
   "pygments_lexer": "ipython3",
   "version": "3.6.3"
  }
 },
 "nbformat": 4,
 "nbformat_minor": 2
}
