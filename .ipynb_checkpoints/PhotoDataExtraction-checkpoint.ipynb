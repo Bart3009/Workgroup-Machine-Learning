{
 "cells": [
  {
   "cell_type": "code",
   "execution_count": 2,
   "metadata": {
    "collapsed": true
   },
   "outputs": [],
   "source": [
    "import cv2\n",
    "import numpy as np"
   ]
  },
  {
   "cell_type": "code",
   "execution_count": 11,
   "metadata": {},
   "outputs": [],
   "source": [
    "image = cv2.imread(\"Photos/IMG_20200217_125023.jpg\")\n",
    "# cv2.namedWindow('image')\n",
    "\n",
    "def nothing(x):\n",
    "    pass\n",
    "\n",
    "size = (600,400)\n",
    "img = cv2.resize(image, size)\n",
    "\n",
    "# cv2.createTrackbar('TOP','image',0,255,nothing)\n",
    "# cv2.createTrackbar('BOT','image',0,255,nothing)\n",
    "top = 255\n",
    "bot = 73\n",
    "\n",
    "img_gray = cv2.cvtColor(img, cv2.COLOR_BGR2GRAY)\n",
    "ret, thresh = cv2.threshold(img_gray, bot, top, cv2.THRESH_BINARY_INV)\n",
    "kernel1 = np.ones((5,5),np.uint8)\n",
    "kernel2 = np.ones((9,9),np.uint8)\n",
    "opening = cv2.morphologyEx(thresh, cv2.MORPH_OPEN, kernel1)\n",
    "closing = cv2.morphologyEx(opening, cv2.MORPH_CLOSE, kernel2)\n",
    "contours, hierarchy = cv2.findContours(closing, cv2.RETR_TREE, cv2.CHAIN_APPROX_SIMPLE)\n",
    "cv2.drawContours(closing, contours, -1, (0,255,0), 3)\n",
    "cv2.imshow('image', closing)\n",
    "\n",
    "while(1):\n",
    "    k = cv2.waitKey(1) & 0xFF\n",
    "    if k == 27:\n",
    "        break\n",
    "\n",
    "    # get current positions of four trackbars\n",
    "#     top = cv2.getTrackbarPos('TOP','image')\n",
    "#     bot = cv2.getTrackbarPos('BOT','image')\n",
    "    \n",
    "    \n",
    "\n",
    "cv2.destroyAllWindows()"
   ]
  }
 ],
 "metadata": {
  "kernelspec": {
   "display_name": "Python 3",
   "language": "python",
   "name": "python3"
  },
  "language_info": {
   "codemirror_mode": {
    "name": "ipython",
    "version": 3
   },
   "file_extension": ".py",
   "mimetype": "text/x-python",
   "name": "python",
   "nbconvert_exporter": "python",
   "pygments_lexer": "ipython3",
   "version": "3.6.3"
  }
 },
 "nbformat": 4,
 "nbformat_minor": 2
}
