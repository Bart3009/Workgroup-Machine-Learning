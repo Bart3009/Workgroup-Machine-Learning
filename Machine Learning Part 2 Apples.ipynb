{
 "cells": [
  {
   "cell_type": "code",
   "execution_count": 1,
   "metadata": {
    "collapsed": true
   },
   "outputs": [],
   "source": [
    "# Load libraries\n",
    "from pandas import read_csv\n",
    "from pandas.plotting import scatter_matrix\n",
    "from matplotlib import pyplot\n",
    "from sklearn.model_selection import train_test_split\n",
    "from sklearn.model_selection import cross_val_score\n",
    "from sklearn.model_selection import StratifiedKFold\n",
    "from sklearn.metrics import classification_report\n",
    "from sklearn.metrics import confusion_matrix\n",
    "from sklearn.metrics import accuracy_score\n",
    "from sklearn.linear_model import LogisticRegression\n",
    "from sklearn.tree import DecisionTreeClassifier\n",
    "from sklearn.neighbors import KNeighborsClassifier\n",
    "from sklearn.discriminant_analysis import LinearDiscriminantAnalysis\n",
    "from sklearn.naive_bayes import GaussianNB\n",
    "from sklearn.svm import SVC\n",
    "from sklearn import datasets, linear_model\n",
    "from matplotlib import pyplot as plt"
   ]
  },
  {
   "cell_type": "code",
   "execution_count": 5,
   "metadata": {},
   "outputs": [
    {
     "name": "stdout",
     "output_type": "stream",
     "text": [
      "           Color;Height;Width;Weight;Type\n",
      "0              gevlekt;81;68;190.3;Elstar\n",
      "1              gevlekt;84;66;201.8;Elstar\n",
      "2             gevlekt;75;74;192.70;Elstar\n",
      "3              gevlekt;85;66;201.9;Elstar\n",
      "4              gevlekt;81;70;195.1;Elstar\n",
      "5              gevlekt;80;72;194.3;Elstar\n",
      "6      Groen;71;71;167.8;Golden Delicious\n",
      "7      Groen;78;79;196.3;Golden Delicious\n",
      "8      Groen;73;78;178.6;Golden Delicious\n",
      "9      Groen;72;67;156.1;Golden Delicious\n",
      "10     Groen;72;66;146.8;Golden Delicious\n",
      "11         licht gevlekt;76;79;200.8;Fuji\n",
      "12         licht gevlekt;75;69;186.5;Fuji\n",
      "13         licht gevlekt;75;63;164.2;Fuji\n",
      "14         licht gevlekt;76;75;179.3;Fuji\n",
      "15         licht gevlekt;80;66;201.6;Fuji\n",
      "16     licht gevlekt;72;65;162;Royal gala\n",
      "17   licht gevlekt;71;61;158.2;Royal gala\n",
      "18   licht gevlekt;73;78;189.1;Royal gala\n",
      "19   licht gevlekt;62;64;154.9;Royal gala\n",
      "20   licht gevlekt;70;75;180.1;Royal gala\n",
      "21   licht gevlekt;69;74;173.6;Royal gala\n",
      "22  Donker groen;73;61;180.6;Granny Smith\n",
      "23  Donker groen;70;72;173.9;Granny Smith\n",
      "24  Donker groen;71;68;177.5;Granny Smith\n",
      "25  Donker groen;70;72;190.9;Granny Smith\n",
      "26  Donker groen;79;63;179.9;Granny Smith\n",
      "27  Donker groen;72;68;173.6;Granny Smith\n",
      "28  Donker groen;78;72;189.5;Granny Smith\n",
      "29           gevlekt;83;69;239.5;Jonagold\n",
      "30             gevlekt;81;69;226;Jonagold\n",
      "31             gevlekt;81;66;235;Jonagold\n",
      "32             gevlekt;77;77;236;Jonagold\n",
      "33           gevlekt;76;75;232.3;Jonagold\n",
      "34           gevlekt;79;72;231.4;Jonagold\n",
      "35        Roze-rood;75;76;196.5;Pink lady\n",
      "36        Roze-rood;76;79;206.2;Pink lady\n",
      "37        Roze-rood;72;76;208.4;Pink lady\n",
      "38        Roze-rood;78;76;207.8;Pink lady\n",
      "39        Roze-rood;87;76;195.4;Pink lady\n",
      "40        Roze-rood;79;87;210.2;Pink lady\n"
     ]
    }
   ],
   "source": [
    "data = read_csv(\"D:/downloads/The smart manufacturing, Apple dataset!.csv\")\n",
    "# print(data)"
   ]
  }
 ],
 "metadata": {
  "kernelspec": {
   "display_name": "Python 3",
   "language": "python",
   "name": "python3"
  },
  "language_info": {
   "codemirror_mode": {
    "name": "ipython",
    "version": 3
   },
   "file_extension": ".py",
   "mimetype": "text/x-python",
   "name": "python",
   "nbconvert_exporter": "python",
   "pygments_lexer": "ipython3",
   "version": "3.6.3"
  }
 },
 "nbformat": 4,
 "nbformat_minor": 2
}
